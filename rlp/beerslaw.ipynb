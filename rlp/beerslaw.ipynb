{
 "cells": [
  {
   "cell_type": "code",
   "execution_count": 5,
   "id": "underlying-family",
   "metadata": {},
   "outputs": [],
   "source": [
    "import physics_models\n",
    "import test_physics_models\n",
    "import pandas as pd\n",
    "import matplotlib.pyplot as plt"
   ]
  },
  {
   "cell_type": "code",
   "execution_count": 6,
   "id": "municipal-event",
   "metadata": {},
   "outputs": [
    {
     "name": "stdout",
     "output_type": "stream",
     "text": [
      "400\n",
      "600\n",
      "800\n"
     ]
    }
   ],
   "source": [
    "test_physics_models.test_beers_law()"
   ]
  },
  {
   "cell_type": "code",
   "execution_count": 3,
   "id": "stuffed-express",
   "metadata": {},
   "outputs": [
    {
     "name": "stdout",
     "output_type": "stream",
     "text": [
      "400\n",
      "600\n",
      "800\n"
     ]
    }
   ],
   "source": [
    "test_coeffs = pd.read_csv('test_coeff.csv')\n",
    "test_solution_1 = {'A': .1, 'B': .4, 'C': 1.0}  # 'Name'->'Molarity'\n",
    "test_path_length = 1  # cm\n",
    "test_max_wl = 800\n",
    "test_min_wl = 400\n",
    "wl, spec = physics_models.beers_law(test_solution_1,\n",
    "                               test_path_length, test_coeffs,\n",
    "                               test_min_wl, test_max_wl)\n",
    "\n",
    "\n",
    "expected = 1.4"
   ]
  },
  {
   "cell_type": "code",
   "execution_count": 4,
   "id": "latin-defensive",
   "metadata": {},
   "outputs": [
    {
     "data": {
      "text/plain": [
       "<matplotlib.collections.PathCollection at 0x11fc7d450>"
      ]
     },
     "execution_count": 4,
     "metadata": {},
     "output_type": "execute_result"
    },
    {
     "data": {
      "image/png": "[encoded data removed]",
      "text/plain": [
       "<Figure size 432x288 with 1 Axes>"
      ]
     },
     "metadata": {
      "needs_background": "light"
     },
     "output_type": "display_data"
    }
   ],
   "source": [
    "plt.scatter(wl, spec)"
   ]
  },
  {
   "cell_type": "code",
   "execution_count": null,
   "id": "active-flour",
   "metadata": {},
   "outputs": [],
   "source": []
  }
 ],
 "metadata": {
  "kernelspec": {
   "display_name": "Python 3",
   "language": "python",
   "name": "python3"
  },
  "language_info": {
   "codemirror_mode": {
    "name": "ipython",
    "version": 3
   },
   "file_extension": ".py",
   "mimetype": "text/x-python",
   "name": "python",
   "nbconvert_exporter": "python",
   "pygments_lexer": "ipython3",
   "version": "3.7.10"
  }
 },
 "nbformat": 4,
 "nbformat_minor": 5
}
