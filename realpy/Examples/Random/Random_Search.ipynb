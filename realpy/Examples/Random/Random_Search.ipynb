{
 "cells": [
  {
   "cell_type": "code",
   "execution_count": 1,
   "id": "continent-retro",
   "metadata": {},
   "outputs": [],
   "source": [
    "# Author: Ahmed Eshaq\n",
    "# Created: 4.26.21\n",
    "# Title: Random_Search_Example"
   ]
  },
  {
   "cell_type": "markdown",
   "id": "sophisticated-anthony",
   "metadata": {},
   "source": [
    "### Importing necessary packages"
   ]
  },
  {
   "cell_type": "code",
   "execution_count": 2,
   "id": "prospective-standard",
   "metadata": {},
   "outputs": [],
   "source": [
    "import random\n",
    "import numpy as np\n",
    "import matplotlib.pyplot as plt"
   ]
  },
  {
   "cell_type": "markdown",
   "id": "valid-incident",
   "metadata": {},
   "source": [
    "## Testing Random_Search Algorithm"
   ]
  },
  {
   "cell_type": "markdown",
   "id": "variable-journalism",
   "metadata": {},
   "source": [
    "### Defining Data (As it is random search so no need to initialize data, we can generate it on runtime)"
   ]
  },
  {
   "cell_type": "code",
   "execution_count": 3,
   "id": "hungarian-calgary",
   "metadata": {},
   "outputs": [],
   "source": [
    "dimensions=3 #Dimensions of data should be matched with upper and lower boundries\n",
    "lower_boundary=[-3.0, -3.0, -3.0] # lower bodry of data as data will not be generated lower than this boundry\n",
    "upper_boundary=[3.0, 3.0, 3.0] # upper coundry of data as data will not be generated upper than this boudry\n",
    "max_iter=10000 # max_iterations\n",
    "maximize=True # weather to have a best maximized or minimized"
   ]
  },
  {
   "cell_type": "markdown",
   "id": "thick-fancy",
   "metadata": {},
   "source": [
    "### Create a function for getting target value"
   ]
  },
  {
   "cell_type": "code",
   "execution_count": 4,
   "id": "organized-keyboard",
   "metadata": {},
   "outputs": [],
   "source": [
    "# create wanted \"target\"\n",
    "def target_function(x):\n",
    "    return -(x[0] ** 2 + x[1] ** 2) + 4 + x[2]"
   ]
  },
  {
   "cell_type": "markdown",
   "id": "rolled-riding",
   "metadata": {},
   "source": [
    "### function to find best solution through random search algorithm"
   ]
  },
  {
   "cell_type": "code",
   "execution_count": 5,
   "id": "harmful-florida",
   "metadata": {},
   "outputs": [],
   "source": [
    "def random_search(function, dimensions, lower_boundary, upper_boundary, max_iter, maximize=False):\n",
    "    best_solution = np.array([float()] * dimensions)\n",
    "\n",
    "    for i in range(dimensions):\n",
    "        best_solution[i] = random.uniform(lower_boundary[i], upper_boundary[i])\n",
    "\n",
    "    for _ in range(max_iter):\n",
    "\n",
    "        solution1 = function(best_solution)\n",
    "\n",
    "        new_solution = [lower_boundary[d] + random.random() * (upper_boundary[d] - lower_boundary[d]) for d in\n",
    "                        range(dimensions)]\n",
    "\n",
    "        if np.greater_equal(new_solution, lower_boundary).all() and np.less_equal(new_solution, upper_boundary).all():\n",
    "            solution2 = function(new_solution)\n",
    "        elif maximize:\n",
    "            solution2 = -100000.0\n",
    "        else:\n",
    "            solution2 = 100000.0\n",
    "\n",
    "        if solution2 > solution1 and maximize:\n",
    "            best_solution = new_solution\n",
    "        elif solution2 < solution1 and not maximize:\n",
    "            best_solution = new_solution\n",
    "\n",
    "    best_fitness = function(best_solution)\n",
    "\n",
    "    return best_fitness, best_solution"
   ]
  },
  {
   "cell_type": "code",
   "execution_count": 6,
   "id": "double-fisher",
   "metadata": {},
   "outputs": [
    {
     "name": "stdout",
     "output_type": "stream",
     "text": [
      "6.8033168749791315 , [-0.40506859345342194, 0.16461661436029607, 2.994496070104911]\n"
     ]
    }
   ],
   "source": [
    "a, b = random_search(function=target_function, dimensions=dimensions, lower_boundary=lower_boundary, upper_boundary=upper_boundary,\n",
    "                    max_iter=max_iter, maximize=maximize)\n",
    "print(a, \",\", b)"
   ]
  },
  {
   "cell_type": "code",
   "execution_count": null,
   "id": "correct-truth",
   "metadata": {},
   "outputs": [],
   "source": []
  }
 ],
 "metadata": {
  "kernelspec": {
   "display_name": "Python 3",
   "language": "python",
   "name": "python3"
  },
  "language_info": {
   "codemirror_mode": {
    "name": "ipython",
    "version": 3
   },
   "file_extension": ".py",
   "mimetype": "text/x-python",
   "name": "python",
   "nbconvert_exporter": "python",
   "pygments_lexer": "ipython3",
   "version": "3.8.5"
  }
 },
 "nbformat": 4,
 "nbformat_minor": 5
}
