{
 "cells": [
  {
   "cell_type": "code",
   "execution_count": 1,
   "id": "underlying-family",
   "metadata": {},
   "outputs": [],
   "source": [
    "import physics_models\n",
    "import test_physics_models"
   ]
  },
  {
   "cell_type": "code",
   "execution_count": 2,
   "id": "municipal-event",
   "metadata": {},
   "outputs": [],
   "source": [
    "test_physics_models.test_beers_law()"
   ]
  },
  {
   "cell_type": "code",
   "execution_count": null,
   "id": "stuffed-express",
   "metadata": {},
   "outputs": [],
   "source": []
  }
 ],
 "metadata": {
  "kernelspec": {
   "display_name": "Python 3",
   "language": "python",
   "name": "python3"
  },
  "language_info": {
   "codemirror_mode": {
    "name": "ipython",
    "version": 3
   },
   "file_extension": ".py",
   "mimetype": "text/x-python",
   "name": "python",
   "nbconvert_exporter": "python",
   "pygments_lexer": "ipython3",
   "version": "3.7.10"
  }
 },
 "nbformat": 4,
 "nbformat_minor": 5
}
